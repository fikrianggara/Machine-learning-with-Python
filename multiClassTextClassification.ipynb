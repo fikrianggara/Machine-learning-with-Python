{
 "cells": [
  {
   "cell_type": "code",
   "execution_count": 2,
   "source": [
    "import pandas as pd \r\n",
    "df = pd.read_csv('imdb_indonesian_movies_2.csv')"
   ],
   "outputs": [],
   "metadata": {}
  },
  {
   "cell_type": "code",
   "execution_count": 6,
   "source": [
    "df.head(5)"
   ],
   "outputs": [
    {
     "output_type": "execute_result",
     "data": {
      "text/plain": [
       "                  judul_film  \\\n",
       "0             Sunan Kalijaga   \n",
       "1                        Gie   \n",
       "2  Guru Bangsa Tjokroaminoto   \n",
       "3                  POL Movie   \n",
       "4              Sang pencerah   \n",
       "\n",
       "                                  ringkasan_sinopsis  genre  \n",
       "0  Raden Mas Said putra sulung Tumenggung Wilarik...  Drama  \n",
       "1  Soe Hok Gie adalah seorang aktivis yang hidup ...  Drama  \n",
       "2  Guru Bangsa Tjokroaminoto menceritakan tentang...  Drama  \n",
       "3  POL menceritakan kisah hidup yang luar biasa d...  Drama  \n",
       "4  Perjalanan pahlawan Indonesia KH Ahmad Dahlan ...  Drama  "
      ],
      "text/html": [
       "<div>\n",
       "<style scoped>\n",
       "    .dataframe tbody tr th:only-of-type {\n",
       "        vertical-align: middle;\n",
       "    }\n",
       "\n",
       "    .dataframe tbody tr th {\n",
       "        vertical-align: top;\n",
       "    }\n",
       "\n",
       "    .dataframe thead th {\n",
       "        text-align: right;\n",
       "    }\n",
       "</style>\n",
       "<table border=\"1\" class=\"dataframe\">\n",
       "  <thead>\n",
       "    <tr style=\"text-align: right;\">\n",
       "      <th></th>\n",
       "      <th>judul_film</th>\n",
       "      <th>ringkasan_sinopsis</th>\n",
       "      <th>genre</th>\n",
       "    </tr>\n",
       "  </thead>\n",
       "  <tbody>\n",
       "    <tr>\n",
       "      <th>0</th>\n",
       "      <td>Sunan Kalijaga</td>\n",
       "      <td>Raden Mas Said putra sulung Tumenggung Wilarik...</td>\n",
       "      <td>Drama</td>\n",
       "    </tr>\n",
       "    <tr>\n",
       "      <th>1</th>\n",
       "      <td>Gie</td>\n",
       "      <td>Soe Hok Gie adalah seorang aktivis yang hidup ...</td>\n",
       "      <td>Drama</td>\n",
       "    </tr>\n",
       "    <tr>\n",
       "      <th>2</th>\n",
       "      <td>Guru Bangsa Tjokroaminoto</td>\n",
       "      <td>Guru Bangsa Tjokroaminoto menceritakan tentang...</td>\n",
       "      <td>Drama</td>\n",
       "    </tr>\n",
       "    <tr>\n",
       "      <th>3</th>\n",
       "      <td>POL Movie</td>\n",
       "      <td>POL menceritakan kisah hidup yang luar biasa d...</td>\n",
       "      <td>Drama</td>\n",
       "    </tr>\n",
       "    <tr>\n",
       "      <th>4</th>\n",
       "      <td>Sang pencerah</td>\n",
       "      <td>Perjalanan pahlawan Indonesia KH Ahmad Dahlan ...</td>\n",
       "      <td>Drama</td>\n",
       "    </tr>\n",
       "  </tbody>\n",
       "</table>\n",
       "</div>"
      ]
     },
     "metadata": {},
     "execution_count": 6
    }
   ],
   "metadata": {}
  },
  {
   "cell_type": "code",
   "execution_count": 7,
   "source": [
    "# membuat dummy variable dari genre menggunakan one hot encoding\r\n",
    "category = pd.get_dummies(df.genre)\r\n",
    "df_baru = pd.concat([df,category], axis=1)\r\n",
    "df_baru = df_baru.drop(columns='genre')\r\n",
    "df_baru.head()"
   ],
   "outputs": [
    {
     "output_type": "execute_result",
     "data": {
      "text/plain": [
       "                  judul_film  \\\n",
       "0             Sunan Kalijaga   \n",
       "1                        Gie   \n",
       "2  Guru Bangsa Tjokroaminoto   \n",
       "3                  POL Movie   \n",
       "4              Sang pencerah   \n",
       "\n",
       "                                  ringkasan_sinopsis  Drama  Horor  Komedi  \\\n",
       "0  Raden Mas Said putra sulung Tumenggung Wilarik...      1      0       0   \n",
       "1  Soe Hok Gie adalah seorang aktivis yang hidup ...      1      0       0   \n",
       "2  Guru Bangsa Tjokroaminoto menceritakan tentang...      1      0       0   \n",
       "3  POL menceritakan kisah hidup yang luar biasa d...      1      0       0   \n",
       "4  Perjalanan pahlawan Indonesia KH Ahmad Dahlan ...      1      0       0   \n",
       "\n",
       "   Laga  Romantis  \n",
       "0     0         0  \n",
       "1     0         0  \n",
       "2     0         0  \n",
       "3     0         0  \n",
       "4     0         0  "
      ],
      "text/html": [
       "<div>\n",
       "<style scoped>\n",
       "    .dataframe tbody tr th:only-of-type {\n",
       "        vertical-align: middle;\n",
       "    }\n",
       "\n",
       "    .dataframe tbody tr th {\n",
       "        vertical-align: top;\n",
       "    }\n",
       "\n",
       "    .dataframe thead th {\n",
       "        text-align: right;\n",
       "    }\n",
       "</style>\n",
       "<table border=\"1\" class=\"dataframe\">\n",
       "  <thead>\n",
       "    <tr style=\"text-align: right;\">\n",
       "      <th></th>\n",
       "      <th>judul_film</th>\n",
       "      <th>ringkasan_sinopsis</th>\n",
       "      <th>Drama</th>\n",
       "      <th>Horor</th>\n",
       "      <th>Komedi</th>\n",
       "      <th>Laga</th>\n",
       "      <th>Romantis</th>\n",
       "    </tr>\n",
       "  </thead>\n",
       "  <tbody>\n",
       "    <tr>\n",
       "      <th>0</th>\n",
       "      <td>Sunan Kalijaga</td>\n",
       "      <td>Raden Mas Said putra sulung Tumenggung Wilarik...</td>\n",
       "      <td>1</td>\n",
       "      <td>0</td>\n",
       "      <td>0</td>\n",
       "      <td>0</td>\n",
       "      <td>0</td>\n",
       "    </tr>\n",
       "    <tr>\n",
       "      <th>1</th>\n",
       "      <td>Gie</td>\n",
       "      <td>Soe Hok Gie adalah seorang aktivis yang hidup ...</td>\n",
       "      <td>1</td>\n",
       "      <td>0</td>\n",
       "      <td>0</td>\n",
       "      <td>0</td>\n",
       "      <td>0</td>\n",
       "    </tr>\n",
       "    <tr>\n",
       "      <th>2</th>\n",
       "      <td>Guru Bangsa Tjokroaminoto</td>\n",
       "      <td>Guru Bangsa Tjokroaminoto menceritakan tentang...</td>\n",
       "      <td>1</td>\n",
       "      <td>0</td>\n",
       "      <td>0</td>\n",
       "      <td>0</td>\n",
       "      <td>0</td>\n",
       "    </tr>\n",
       "    <tr>\n",
       "      <th>3</th>\n",
       "      <td>POL Movie</td>\n",
       "      <td>POL menceritakan kisah hidup yang luar biasa d...</td>\n",
       "      <td>1</td>\n",
       "      <td>0</td>\n",
       "      <td>0</td>\n",
       "      <td>0</td>\n",
       "      <td>0</td>\n",
       "    </tr>\n",
       "    <tr>\n",
       "      <th>4</th>\n",
       "      <td>Sang pencerah</td>\n",
       "      <td>Perjalanan pahlawan Indonesia KH Ahmad Dahlan ...</td>\n",
       "      <td>1</td>\n",
       "      <td>0</td>\n",
       "      <td>0</td>\n",
       "      <td>0</td>\n",
       "      <td>0</td>\n",
       "    </tr>\n",
       "  </tbody>\n",
       "</table>\n",
       "</div>"
      ]
     },
     "metadata": {},
     "execution_count": 7
    }
   ],
   "metadata": {}
  },
  {
   "cell_type": "code",
   "execution_count": 12,
   "source": [
    "# memisahkan label dan fitur dan menjadikannya array numpy\r\n",
    "sinopsis = df_baru['ringkasan_sinopsis'].values\r\n",
    "label = df_baru[['Drama','Horor','Komedi','Laga','Romantis']].values"
   ],
   "outputs": [],
   "metadata": {}
  },
  {
   "cell_type": "code",
   "execution_count": 13,
   "source": [
    "#split data training dan testing\r\n",
    "from sklearn.model_selection import train_test_split\r\n",
    "\r\n",
    "x_train, x_test, y_train, y_test = train_test_split(sinopsis, label, test_size=0.2)"
   ],
   "outputs": [],
   "metadata": {}
  },
  {
   "cell_type": "code",
   "execution_count": 14,
   "source": [
    "# tokenisasi dan padding sinopsis\r\n",
    "from tensorflow.keras.preprocessing.text import Tokenizer\r\n",
    "from tensorflow.keras.preprocessing.sequence import pad_sequences\r\n",
    "\r\n",
    "#tokenisasi sinopsis training dan testing\r\n",
    "tokenizer = Tokenizer(num_words=5000, oov_token='x')\r\n",
    "tokenizer.fit_on_texts(x_train)\r\n",
    "tokenizer.fit_on_texts(x_test)\r\n",
    "\r\n",
    "#membuat array dari data yang sudah ditokenisasi\r\n",
    "train_sequences = tokenizer.texts_to_sequences(x_train)\r\n",
    "test_sequences = tokenizer.texts_to_sequences(x_test)\r\n",
    "\r\n",
    "#menyamakan panjang array/sequence\r\n",
    "train_padded = pad_sequences(train_sequences)\r\n",
    "test_padded = pad_sequences(test_sequences)"
   ],
   "outputs": [],
   "metadata": {}
  },
  {
   "cell_type": "code",
   "execution_count": 18,
   "source": [
    "#arsitektru model\r\n",
    "import tensorflow as tf\r\n",
    "\r\n",
    "model = tf.keras.models.Sequential([\r\n",
    "    tf.keras.layers.Embedding(input_dim=5000, output_dim=16),\r\n",
    "    tf.keras.layers.LSTM(64),\r\n",
    "    tf.keras.layers.Dense(128, activation='relu'),\r\n",
    "    tf.keras.layers.Dense(62, activation='relu'),\r\n",
    "    tf.keras.layers.Dense(5, activation='softmax')\r\n",
    "])\r\n",
    "\r\n",
    "model.compile(optimizer=tf.keras.optimizers.Adam(),\r\n",
    "    loss='categorical_crossentropy',\r\n",
    "    metrics=['accuracy'])"
   ],
   "outputs": [],
   "metadata": {}
  },
  {
   "cell_type": "code",
   "execution_count": 20,
   "source": [
    "#training model\r\n",
    "history = model.fit(train_padded, y_train, validation_data=(test_padded, y_test), epochs=10)"
   ],
   "outputs": [
    {
     "output_type": "stream",
     "name": "stdout",
     "text": [
      "Epoch 1/10\n",
      "26/26 [==============================] - 18s 678ms/step - loss: 0.9688 - accuracy: 0.6045 - val_loss: 1.8336 - val_accuracy: 0.2786\n",
      "Epoch 2/10\n",
      "26/26 [==============================] - 17s 670ms/step - loss: 0.7627 - accuracy: 0.6679 - val_loss: 2.3428 - val_accuracy: 0.3483\n",
      "Epoch 3/10\n",
      "26/26 [==============================] - 19s 734ms/step - loss: 0.5454 - accuracy: 0.7376 - val_loss: 2.8785 - val_accuracy: 0.3184\n",
      "Epoch 4/10\n",
      "26/26 [==============================] - 18s 697ms/step - loss: 0.4840 - accuracy: 0.7811 - val_loss: 3.3374 - val_accuracy: 0.2985\n",
      "Epoch 5/10\n",
      "26/26 [==============================] - 18s 684ms/step - loss: 0.3867 - accuracy: 0.8582 - val_loss: 3.3128 - val_accuracy: 0.2935\n",
      "Epoch 6/10\n",
      "26/26 [==============================] - 18s 673ms/step - loss: 0.2521 - accuracy: 0.9204 - val_loss: 3.8682 - val_accuracy: 0.3134\n",
      "Epoch 7/10\n",
      "26/26 [==============================] - 18s 692ms/step - loss: 0.1345 - accuracy: 0.9639 - val_loss: 4.9873 - val_accuracy: 0.2786\n",
      "Epoch 8/10\n",
      "26/26 [==============================] - 20s 760ms/step - loss: 0.0926 - accuracy: 0.9813 - val_loss: 5.0053 - val_accuracy: 0.2886\n",
      "Epoch 9/10\n",
      "26/26 [==============================] - 19s 729ms/step - loss: 0.0622 - accuracy: 0.9888 - val_loss: 5.4728 - val_accuracy: 0.2537\n",
      "Epoch 10/10\n",
      "26/26 [==============================] - 19s 721ms/step - loss: 0.0380 - accuracy: 0.9913 - val_loss: 5.5179 - val_accuracy: 0.2935\n"
     ]
    }
   ],
   "metadata": {}
  }
 ],
 "metadata": {
  "orig_nbformat": 4,
  "language_info": {
   "name": "python",
   "version": "3.8.7",
   "mimetype": "text/x-python",
   "codemirror_mode": {
    "name": "ipython",
    "version": 3
   },
   "pygments_lexer": "ipython3",
   "nbconvert_exporter": "python",
   "file_extension": ".py"
  },
  "kernelspec": {
   "name": "python3",
   "display_name": "Python 3.8.7 64-bit"
  },
  "interpreter": {
   "hash": "965ba1120b0c101b3f715b6e258a73742ec1cf86f2c8b04492724c87d9f112c3"
  }
 },
 "nbformat": 4,
 "nbformat_minor": 2
}